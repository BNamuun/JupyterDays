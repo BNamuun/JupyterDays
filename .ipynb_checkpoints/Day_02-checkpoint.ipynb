{
 "cells": [
  {
   "cell_type": "code",
   "execution_count": 7,
   "id": "3a794c4b",
   "metadata": {},
   "outputs": [],
   "source": [
    "def square(number = 3):\n",
    "    \"\"\"\n",
    "    This is a docstring. \n",
    "    When you clicking shift+tab, then you get detailed information about this function\n",
    "    \"\"\"\n",
    "   \n",
    "\n",
    "    return number**2"
   ]
  },
  {
   "cell_type": "code",
   "execution_count": 8,
   "id": "7b75d746",
   "metadata": {},
   "outputs": [],
   "source": [
    "example = square(5)"
   ]
  },
  {
   "cell_type": "code",
   "execution_count": 9,
   "id": "3207f9e6",
   "metadata": {},
   "outputs": [
    {
     "data": {
      "text/plain": [
       "25"
      ]
     },
     "execution_count": 9,
     "metadata": {},
     "output_type": "execute_result"
    }
   ],
   "source": [
    "example"
   ]
  },
  {
   "cell_type": "code",
   "execution_count": 10,
   "id": "899f9c2d",
   "metadata": {},
   "outputs": [],
   "source": [
    "ll = square()"
   ]
  },
  {
   "cell_type": "code",
   "execution_count": 11,
   "id": "4f6ad694",
   "metadata": {},
   "outputs": [
    {
     "data": {
      "text/plain": [
       "9"
      ]
     },
     "execution_count": 11,
     "metadata": {},
     "output_type": "execute_result"
    }
   ],
   "source": [
    "ll"
   ]
  },
  {
   "cell_type": "code",
   "execution_count": null,
   "id": "c8001597",
   "metadata": {},
   "outputs": [],
   "source": []
  }
 ],
 "metadata": {
  "kernelspec": {
   "display_name": "Python 3 (ipykernel)",
   "language": "python",
   "name": "python3"
  },
  "language_info": {
   "codemirror_mode": {
    "name": "ipython",
    "version": 3
   },
   "file_extension": ".py",
   "mimetype": "text/x-python",
   "name": "python",
   "nbconvert_exporter": "python",
   "pygments_lexer": "ipython3",
   "version": "3.11.4"
  }
 },
 "nbformat": 4,
 "nbformat_minor": 5
}
